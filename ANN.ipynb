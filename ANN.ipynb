{
  "nbformat": 4,
  "nbformat_minor": 0,
  "metadata": {
    "colab": {
      "provenance": [],
      "authorship_tag": "ABX9TyMCnLTJo3cYaAOaUUBNvnoR",
      "include_colab_link": true
    },
    "kernelspec": {
      "name": "python3",
      "display_name": "Python 3"
    },
    "language_info": {
      "name": "python"
    }
  },
  "cells": [
    {
      "cell_type": "markdown",
      "metadata": {
        "id": "view-in-github",
        "colab_type": "text"
      },
      "source": [
        "<a href=\"https://colab.research.google.com/github/shriyashrestha525/AritificialNeuralNetwork/blob/main/ANN.ipynb\" target=\"_parent\"><img src=\"https://colab.research.google.com/assets/colab-badge.svg\" alt=\"Open In Colab\"/></a>"
      ]
    },
    {
      "cell_type": "code",
      "execution_count": null,
      "metadata": {
        "colab": {
          "base_uri": "https://localhost:8080/"
        },
        "id": "FAEgtLivxfd8",
        "outputId": "c263408a-50e8-4693-c577-0a0fb55a0916"
      },
      "outputs": [
        {
          "output_type": "stream",
          "name": "stdout",
          "text": [
            "Mounted at /content/mydrive/\n"
          ]
        }
      ],
      "source": [
        "from google.colab import drive\n",
        "drive.mount('/content/mydrive/')"
      ]
    },
    {
      "cell_type": "code",
      "source": [
        "import pandas as pd"
      ],
      "metadata": {
        "id": "zTUGeE0cyH-V"
      },
      "execution_count": null,
      "outputs": []
    },
    {
      "cell_type": "code",
      "source": [
        "data = pd.read_csv('/content/mydrive/MyDrive/ML/Churn_Modelling.csv')"
      ],
      "metadata": {
        "id": "j1-5ddDAyRW4"
      },
      "execution_count": null,
      "outputs": []
    },
    {
      "cell_type": "code",
      "source": [
        "data.sample(5)"
      ],
      "metadata": {
        "colab": {
          "base_uri": "https://localhost:8080/",
          "height": 226
        },
        "id": "ZoQtPTgmyZUY",
        "outputId": "1c233b96-c1a1-4389-d6aa-c1d4a8405ac2"
      },
      "execution_count": null,
      "outputs": [
        {
          "output_type": "execute_result",
          "data": {
            "text/plain": [
              "      RowNumber  CustomerId    Surname  CreditScore Geography  Gender  Age  \\\n",
              "6201       6202    15753079      Chidi          612    France    Male   41   \n",
              "4361       4362    15592000  Calabresi          781   Germany  Female   48   \n",
              "1837       1838    15619343    Mahmood          561    France    Male   56   \n",
              "3757       3758    15679284    Aksenov          593     Spain  Female   45   \n",
              "2024       2025    15633043   Fedorova          545     Spain  Female   39   \n",
              "\n",
              "      Tenure    Balance  NumOfProducts  HasCrCard  IsActiveMember  \\\n",
              "6201       5       0.00              3          0               0   \n",
              "4361       9   82794.18              1          1               0   \n",
              "1837       7  152759.00              2          1               0   \n",
              "3757       6   79259.75              1          1               0   \n",
              "2024       6       0.00              1          0               0   \n",
              "\n",
              "      EstimatedSalary  Exited  \n",
              "6201        151256.22       0  \n",
              "4361        124720.68       1  \n",
              "1837        133167.11       1  \n",
              "3757         55347.28       0  \n",
              "2024         38410.74       1  "
            ],
            "text/html": [
              "\n",
              "  <div id=\"df-89e5f8cf-ea65-4adc-ba8b-95c17e5f7682\" class=\"colab-df-container\">\n",
              "    <div>\n",
              "<style scoped>\n",
              "    .dataframe tbody tr th:only-of-type {\n",
              "        vertical-align: middle;\n",
              "    }\n",
              "\n",
              "    .dataframe tbody tr th {\n",
              "        vertical-align: top;\n",
              "    }\n",
              "\n",
              "    .dataframe thead th {\n",
              "        text-align: right;\n",
              "    }\n",
              "</style>\n",
              "<table border=\"1\" class=\"dataframe\">\n",
              "  <thead>\n",
              "    <tr style=\"text-align: right;\">\n",
              "      <th></th>\n",
              "      <th>RowNumber</th>\n",
              "      <th>CustomerId</th>\n",
              "      <th>Surname</th>\n",
              "      <th>CreditScore</th>\n",
              "      <th>Geography</th>\n",
              "      <th>Gender</th>\n",
              "      <th>Age</th>\n",
              "      <th>Tenure</th>\n",
              "      <th>Balance</th>\n",
              "      <th>NumOfProducts</th>\n",
              "      <th>HasCrCard</th>\n",
              "      <th>IsActiveMember</th>\n",
              "      <th>EstimatedSalary</th>\n",
              "      <th>Exited</th>\n",
              "    </tr>\n",
              "  </thead>\n",
              "  <tbody>\n",
              "    <tr>\n",
              "      <th>6201</th>\n",
              "      <td>6202</td>\n",
              "      <td>15753079</td>\n",
              "      <td>Chidi</td>\n",
              "      <td>612</td>\n",
              "      <td>France</td>\n",
              "      <td>Male</td>\n",
              "      <td>41</td>\n",
              "      <td>5</td>\n",
              "      <td>0.00</td>\n",
              "      <td>3</td>\n",
              "      <td>0</td>\n",
              "      <td>0</td>\n",
              "      <td>151256.22</td>\n",
              "      <td>0</td>\n",
              "    </tr>\n",
              "    <tr>\n",
              "      <th>4361</th>\n",
              "      <td>4362</td>\n",
              "      <td>15592000</td>\n",
              "      <td>Calabresi</td>\n",
              "      <td>781</td>\n",
              "      <td>Germany</td>\n",
              "      <td>Female</td>\n",
              "      <td>48</td>\n",
              "      <td>9</td>\n",
              "      <td>82794.18</td>\n",
              "      <td>1</td>\n",
              "      <td>1</td>\n",
              "      <td>0</td>\n",
              "      <td>124720.68</td>\n",
              "      <td>1</td>\n",
              "    </tr>\n",
              "    <tr>\n",
              "      <th>1837</th>\n",
              "      <td>1838</td>\n",
              "      <td>15619343</td>\n",
              "      <td>Mahmood</td>\n",
              "      <td>561</td>\n",
              "      <td>France</td>\n",
              "      <td>Male</td>\n",
              "      <td>56</td>\n",
              "      <td>7</td>\n",
              "      <td>152759.00</td>\n",
              "      <td>2</td>\n",
              "      <td>1</td>\n",
              "      <td>0</td>\n",
              "      <td>133167.11</td>\n",
              "      <td>1</td>\n",
              "    </tr>\n",
              "    <tr>\n",
              "      <th>3757</th>\n",
              "      <td>3758</td>\n",
              "      <td>15679284</td>\n",
              "      <td>Aksenov</td>\n",
              "      <td>593</td>\n",
              "      <td>Spain</td>\n",
              "      <td>Female</td>\n",
              "      <td>45</td>\n",
              "      <td>6</td>\n",
              "      <td>79259.75</td>\n",
              "      <td>1</td>\n",
              "      <td>1</td>\n",
              "      <td>0</td>\n",
              "      <td>55347.28</td>\n",
              "      <td>0</td>\n",
              "    </tr>\n",
              "    <tr>\n",
              "      <th>2024</th>\n",
              "      <td>2025</td>\n",
              "      <td>15633043</td>\n",
              "      <td>Fedorova</td>\n",
              "      <td>545</td>\n",
              "      <td>Spain</td>\n",
              "      <td>Female</td>\n",
              "      <td>39</td>\n",
              "      <td>6</td>\n",
              "      <td>0.00</td>\n",
              "      <td>1</td>\n",
              "      <td>0</td>\n",
              "      <td>0</td>\n",
              "      <td>38410.74</td>\n",
              "      <td>1</td>\n",
              "    </tr>\n",
              "  </tbody>\n",
              "</table>\n",
              "</div>\n",
              "    <div class=\"colab-df-buttons\">\n",
              "\n",
              "  <div class=\"colab-df-container\">\n",
              "    <button class=\"colab-df-convert\" onclick=\"convertToInteractive('df-89e5f8cf-ea65-4adc-ba8b-95c17e5f7682')\"\n",
              "            title=\"Convert this dataframe to an interactive table.\"\n",
              "            style=\"display:none;\">\n",
              "\n",
              "  <svg xmlns=\"http://www.w3.org/2000/svg\" height=\"24px\" viewBox=\"0 -960 960 960\">\n",
              "    <path d=\"M120-120v-720h720v720H120Zm60-500h600v-160H180v160Zm220 220h160v-160H400v160Zm0 220h160v-160H400v160ZM180-400h160v-160H180v160Zm440 0h160v-160H620v160ZM180-180h160v-160H180v160Zm440 0h160v-160H620v160Z\"/>\n",
              "  </svg>\n",
              "    </button>\n",
              "\n",
              "  <style>\n",
              "    .colab-df-container {\n",
              "      display:flex;\n",
              "      gap: 12px;\n",
              "    }\n",
              "\n",
              "    .colab-df-convert {\n",
              "      background-color: #E8F0FE;\n",
              "      border: none;\n",
              "      border-radius: 50%;\n",
              "      cursor: pointer;\n",
              "      display: none;\n",
              "      fill: #1967D2;\n",
              "      height: 32px;\n",
              "      padding: 0 0 0 0;\n",
              "      width: 32px;\n",
              "    }\n",
              "\n",
              "    .colab-df-convert:hover {\n",
              "      background-color: #E2EBFA;\n",
              "      box-shadow: 0px 1px 2px rgba(60, 64, 67, 0.3), 0px 1px 3px 1px rgba(60, 64, 67, 0.15);\n",
              "      fill: #174EA6;\n",
              "    }\n",
              "\n",
              "    .colab-df-buttons div {\n",
              "      margin-bottom: 4px;\n",
              "    }\n",
              "\n",
              "    [theme=dark] .colab-df-convert {\n",
              "      background-color: #3B4455;\n",
              "      fill: #D2E3FC;\n",
              "    }\n",
              "\n",
              "    [theme=dark] .colab-df-convert:hover {\n",
              "      background-color: #434B5C;\n",
              "      box-shadow: 0px 1px 3px 1px rgba(0, 0, 0, 0.15);\n",
              "      filter: drop-shadow(0px 1px 2px rgba(0, 0, 0, 0.3));\n",
              "      fill: #FFFFFF;\n",
              "    }\n",
              "  </style>\n",
              "\n",
              "    <script>\n",
              "      const buttonEl =\n",
              "        document.querySelector('#df-89e5f8cf-ea65-4adc-ba8b-95c17e5f7682 button.colab-df-convert');\n",
              "      buttonEl.style.display =\n",
              "        google.colab.kernel.accessAllowed ? 'block' : 'none';\n",
              "\n",
              "      async function convertToInteractive(key) {\n",
              "        const element = document.querySelector('#df-89e5f8cf-ea65-4adc-ba8b-95c17e5f7682');\n",
              "        const dataTable =\n",
              "          await google.colab.kernel.invokeFunction('convertToInteractive',\n",
              "                                                    [key], {});\n",
              "        if (!dataTable) return;\n",
              "\n",
              "        const docLinkHtml = 'Like what you see? Visit the ' +\n",
              "          '<a target=\"_blank\" href=https://colab.research.google.com/notebooks/data_table.ipynb>data table notebook</a>'\n",
              "          + ' to learn more about interactive tables.';\n",
              "        element.innerHTML = '';\n",
              "        dataTable['output_type'] = 'display_data';\n",
              "        await google.colab.output.renderOutput(dataTable, element);\n",
              "        const docLink = document.createElement('div');\n",
              "        docLink.innerHTML = docLinkHtml;\n",
              "        element.appendChild(docLink);\n",
              "      }\n",
              "    </script>\n",
              "  </div>\n",
              "\n",
              "\n",
              "<div id=\"df-d23040db-975c-45bb-bd1f-6d2f54768f45\">\n",
              "  <button class=\"colab-df-quickchart\" onclick=\"quickchart('df-d23040db-975c-45bb-bd1f-6d2f54768f45')\"\n",
              "            title=\"Suggest charts\"\n",
              "            style=\"display:none;\">\n",
              "\n",
              "<svg xmlns=\"http://www.w3.org/2000/svg\" height=\"24px\"viewBox=\"0 0 24 24\"\n",
              "     width=\"24px\">\n",
              "    <g>\n",
              "        <path d=\"M19 3H5c-1.1 0-2 .9-2 2v14c0 1.1.9 2 2 2h14c1.1 0 2-.9 2-2V5c0-1.1-.9-2-2-2zM9 17H7v-7h2v7zm4 0h-2V7h2v10zm4 0h-2v-4h2v4z\"/>\n",
              "    </g>\n",
              "</svg>\n",
              "  </button>\n",
              "\n",
              "<style>\n",
              "  .colab-df-quickchart {\n",
              "      --bg-color: #E8F0FE;\n",
              "      --fill-color: #1967D2;\n",
              "      --hover-bg-color: #E2EBFA;\n",
              "      --hover-fill-color: #174EA6;\n",
              "      --disabled-fill-color: #AAA;\n",
              "      --disabled-bg-color: #DDD;\n",
              "  }\n",
              "\n",
              "  [theme=dark] .colab-df-quickchart {\n",
              "      --bg-color: #3B4455;\n",
              "      --fill-color: #D2E3FC;\n",
              "      --hover-bg-color: #434B5C;\n",
              "      --hover-fill-color: #FFFFFF;\n",
              "      --disabled-bg-color: #3B4455;\n",
              "      --disabled-fill-color: #666;\n",
              "  }\n",
              "\n",
              "  .colab-df-quickchart {\n",
              "    background-color: var(--bg-color);\n",
              "    border: none;\n",
              "    border-radius: 50%;\n",
              "    cursor: pointer;\n",
              "    display: none;\n",
              "    fill: var(--fill-color);\n",
              "    height: 32px;\n",
              "    padding: 0;\n",
              "    width: 32px;\n",
              "  }\n",
              "\n",
              "  .colab-df-quickchart:hover {\n",
              "    background-color: var(--hover-bg-color);\n",
              "    box-shadow: 0 1px 2px rgba(60, 64, 67, 0.3), 0 1px 3px 1px rgba(60, 64, 67, 0.15);\n",
              "    fill: var(--button-hover-fill-color);\n",
              "  }\n",
              "\n",
              "  .colab-df-quickchart-complete:disabled,\n",
              "  .colab-df-quickchart-complete:disabled:hover {\n",
              "    background-color: var(--disabled-bg-color);\n",
              "    fill: var(--disabled-fill-color);\n",
              "    box-shadow: none;\n",
              "  }\n",
              "\n",
              "  .colab-df-spinner {\n",
              "    border: 2px solid var(--fill-color);\n",
              "    border-color: transparent;\n",
              "    border-bottom-color: var(--fill-color);\n",
              "    animation:\n",
              "      spin 1s steps(1) infinite;\n",
              "  }\n",
              "\n",
              "  @keyframes spin {\n",
              "    0% {\n",
              "      border-color: transparent;\n",
              "      border-bottom-color: var(--fill-color);\n",
              "      border-left-color: var(--fill-color);\n",
              "    }\n",
              "    20% {\n",
              "      border-color: transparent;\n",
              "      border-left-color: var(--fill-color);\n",
              "      border-top-color: var(--fill-color);\n",
              "    }\n",
              "    30% {\n",
              "      border-color: transparent;\n",
              "      border-left-color: var(--fill-color);\n",
              "      border-top-color: var(--fill-color);\n",
              "      border-right-color: var(--fill-color);\n",
              "    }\n",
              "    40% {\n",
              "      border-color: transparent;\n",
              "      border-right-color: var(--fill-color);\n",
              "      border-top-color: var(--fill-color);\n",
              "    }\n",
              "    60% {\n",
              "      border-color: transparent;\n",
              "      border-right-color: var(--fill-color);\n",
              "    }\n",
              "    80% {\n",
              "      border-color: transparent;\n",
              "      border-right-color: var(--fill-color);\n",
              "      border-bottom-color: var(--fill-color);\n",
              "    }\n",
              "    90% {\n",
              "      border-color: transparent;\n",
              "      border-bottom-color: var(--fill-color);\n",
              "    }\n",
              "  }\n",
              "</style>\n",
              "\n",
              "  <script>\n",
              "    async function quickchart(key) {\n",
              "      const quickchartButtonEl =\n",
              "        document.querySelector('#' + key + ' button');\n",
              "      quickchartButtonEl.disabled = true;  // To prevent multiple clicks.\n",
              "      quickchartButtonEl.classList.add('colab-df-spinner');\n",
              "      try {\n",
              "        const charts = await google.colab.kernel.invokeFunction(\n",
              "            'suggestCharts', [key], {});\n",
              "      } catch (error) {\n",
              "        console.error('Error during call to suggestCharts:', error);\n",
              "      }\n",
              "      quickchartButtonEl.classList.remove('colab-df-spinner');\n",
              "      quickchartButtonEl.classList.add('colab-df-quickchart-complete');\n",
              "    }\n",
              "    (() => {\n",
              "      let quickchartButtonEl =\n",
              "        document.querySelector('#df-d23040db-975c-45bb-bd1f-6d2f54768f45 button');\n",
              "      quickchartButtonEl.style.display =\n",
              "        google.colab.kernel.accessAllowed ? 'block' : 'none';\n",
              "    })();\n",
              "  </script>\n",
              "</div>\n",
              "    </div>\n",
              "  </div>\n"
            ]
          },
          "metadata": {},
          "execution_count": 7
        }
      ]
    },
    {
      "cell_type": "code",
      "source": [
        "data.info()"
      ],
      "metadata": {
        "colab": {
          "base_uri": "https://localhost:8080/"
        },
        "id": "qpix1_dyyiVf",
        "outputId": "c2fb709c-c169-4254-a779-81f4099ee7c5"
      },
      "execution_count": null,
      "outputs": [
        {
          "output_type": "stream",
          "name": "stdout",
          "text": [
            "<class 'pandas.core.frame.DataFrame'>\n",
            "RangeIndex: 10000 entries, 0 to 9999\n",
            "Data columns (total 14 columns):\n",
            " #   Column           Non-Null Count  Dtype  \n",
            "---  ------           --------------  -----  \n",
            " 0   RowNumber        10000 non-null  int64  \n",
            " 1   CustomerId       10000 non-null  int64  \n",
            " 2   Surname          10000 non-null  object \n",
            " 3   CreditScore      10000 non-null  int64  \n",
            " 4   Geography        10000 non-null  object \n",
            " 5   Gender           10000 non-null  object \n",
            " 6   Age              10000 non-null  int64  \n",
            " 7   Tenure           10000 non-null  int64  \n",
            " 8   Balance          10000 non-null  float64\n",
            " 9   NumOfProducts    10000 non-null  int64  \n",
            " 10  HasCrCard        10000 non-null  int64  \n",
            " 11  IsActiveMember   10000 non-null  int64  \n",
            " 12  EstimatedSalary  10000 non-null  float64\n",
            " 13  Exited           10000 non-null  int64  \n",
            "dtypes: float64(2), int64(9), object(3)\n",
            "memory usage: 1.1+ MB\n"
          ]
        }
      ]
    },
    {
      "cell_type": "code",
      "source": [
        "data.shape"
      ],
      "metadata": {
        "colab": {
          "base_uri": "https://localhost:8080/"
        },
        "id": "5oJ3Sb5MylAv",
        "outputId": "23378f49-51bd-4c03-d594-5466a553698a"
      },
      "execution_count": null,
      "outputs": [
        {
          "output_type": "execute_result",
          "data": {
            "text/plain": [
              "(10000, 14)"
            ]
          },
          "metadata": {},
          "execution_count": 9
        }
      ]
    },
    {
      "cell_type": "code",
      "source": [
        "x = data.iloc[:,3:13]\n",
        "y = data['Exited']"
      ],
      "metadata": {
        "id": "vYWZKHud7jB0"
      },
      "execution_count": null,
      "outputs": []
    },
    {
      "cell_type": "code",
      "source": [
        "print(x.sample(5))"
      ],
      "metadata": {
        "colab": {
          "base_uri": "https://localhost:8080/"
        },
        "id": "SpaLZTad7rvO",
        "outputId": "ff6138dd-39f4-486c-df96-869724a9e723"
      },
      "execution_count": null,
      "outputs": [
        {
          "output_type": "stream",
          "name": "stdout",
          "text": [
            "      CreditScore Geography  Gender  Age  Tenure    Balance  NumOfProducts  \\\n",
            "3739          627    France  Female   32       1       0.00              1   \n",
            "874           645    France  Female   38       5  101430.30              2   \n",
            "5896          744     Spain    Male   30       1  128065.12              1   \n",
            "4582          501    France    Male   37       4       0.00              2   \n",
            "6543          814   Germany    Male   29       1  131968.57              2   \n",
            "\n",
            "      HasCrCard  IsActiveMember  EstimatedSalary  \n",
            "3739          1               0        106851.70  \n",
            "874           0               1          4400.32  \n",
            "5896          1               0        121525.48  \n",
            "4582          0               0         12470.30  \n",
            "6543          1               1        147693.92  \n"
          ]
        }
      ]
    },
    {
      "cell_type": "code",
      "source": [
        "y.sample(5)"
      ],
      "metadata": {
        "colab": {
          "base_uri": "https://localhost:8080/"
        },
        "id": "K_gCPLl77vb8",
        "outputId": "19bc06ff-db67-40ae-fac2-b24037d6b2a9"
      },
      "execution_count": null,
      "outputs": [
        {
          "output_type": "execute_result",
          "data": {
            "text/plain": [
              "2477    1\n",
              "7769    0\n",
              "3260    1\n",
              "4752    0\n",
              "7966    0\n",
              "Name: Exited, dtype: int64"
            ]
          },
          "metadata": {},
          "execution_count": 12
        }
      ]
    },
    {
      "cell_type": "code",
      "source": [
        "geography = pd.get_dummies(x['Geography'], drop_first = True)\n",
        "gender = pd.get_dummies(x['Gender'],drop_first = True)"
      ],
      "metadata": {
        "id": "zWDegEkt72Sw"
      },
      "execution_count": null,
      "outputs": []
    },
    {
      "cell_type": "code",
      "source": [
        "x = pd.concat([x, geography, gender], axis = 1)\n",
        "x = x.drop(['Geography', 'Gender'], axis = 1)"
      ],
      "metadata": {
        "id": "Wv7qPPbk8QcF"
      },
      "execution_count": null,
      "outputs": []
    },
    {
      "cell_type": "code",
      "source": [
        "x.sample(5)"
      ],
      "metadata": {
        "colab": {
          "base_uri": "https://localhost:8080/",
          "height": 206
        },
        "id": "VOzQabRK8KUd",
        "outputId": "e9210395-8cdb-467b-c55d-7caed5af3047"
      },
      "execution_count": null,
      "outputs": [
        {
          "output_type": "execute_result",
          "data": {
            "text/plain": [
              "      CreditScore  Age  Tenure    Balance  NumOfProducts  HasCrCard  \\\n",
              "8323          712   30       6       0.00              2          1   \n",
              "4512          666   51       2  148222.65              1          0   \n",
              "4533          850   39       6  206014.94              2          0   \n",
              "2452          734   29       0  139994.66              1          1   \n",
              "7374          682   38       1  116520.28              1          1   \n",
              "\n",
              "      IsActiveMember  EstimatedSalary  Germany  Spain  Male  \n",
              "8323               0        152417.97        0      1     0  \n",
              "4512               0        156953.54        0      0     1  \n",
              "4533               1         42774.84        0      1     1  \n",
              "2452               0         17744.72        0      0     0  \n",
              "7374               1         49833.50        1      0     0  "
            ],
            "text/html": [
              "\n",
              "  <div id=\"df-37c4b1fe-582d-4dbb-9d99-5bd366bbf422\" class=\"colab-df-container\">\n",
              "    <div>\n",
              "<style scoped>\n",
              "    .dataframe tbody tr th:only-of-type {\n",
              "        vertical-align: middle;\n",
              "    }\n",
              "\n",
              "    .dataframe tbody tr th {\n",
              "        vertical-align: top;\n",
              "    }\n",
              "\n",
              "    .dataframe thead th {\n",
              "        text-align: right;\n",
              "    }\n",
              "</style>\n",
              "<table border=\"1\" class=\"dataframe\">\n",
              "  <thead>\n",
              "    <tr style=\"text-align: right;\">\n",
              "      <th></th>\n",
              "      <th>CreditScore</th>\n",
              "      <th>Age</th>\n",
              "      <th>Tenure</th>\n",
              "      <th>Balance</th>\n",
              "      <th>NumOfProducts</th>\n",
              "      <th>HasCrCard</th>\n",
              "      <th>IsActiveMember</th>\n",
              "      <th>EstimatedSalary</th>\n",
              "      <th>Germany</th>\n",
              "      <th>Spain</th>\n",
              "      <th>Male</th>\n",
              "    </tr>\n",
              "  </thead>\n",
              "  <tbody>\n",
              "    <tr>\n",
              "      <th>8323</th>\n",
              "      <td>712</td>\n",
              "      <td>30</td>\n",
              "      <td>6</td>\n",
              "      <td>0.00</td>\n",
              "      <td>2</td>\n",
              "      <td>1</td>\n",
              "      <td>0</td>\n",
              "      <td>152417.97</td>\n",
              "      <td>0</td>\n",
              "      <td>1</td>\n",
              "      <td>0</td>\n",
              "    </tr>\n",
              "    <tr>\n",
              "      <th>4512</th>\n",
              "      <td>666</td>\n",
              "      <td>51</td>\n",
              "      <td>2</td>\n",
              "      <td>148222.65</td>\n",
              "      <td>1</td>\n",
              "      <td>0</td>\n",
              "      <td>0</td>\n",
              "      <td>156953.54</td>\n",
              "      <td>0</td>\n",
              "      <td>0</td>\n",
              "      <td>1</td>\n",
              "    </tr>\n",
              "    <tr>\n",
              "      <th>4533</th>\n",
              "      <td>850</td>\n",
              "      <td>39</td>\n",
              "      <td>6</td>\n",
              "      <td>206014.94</td>\n",
              "      <td>2</td>\n",
              "      <td>0</td>\n",
              "      <td>1</td>\n",
              "      <td>42774.84</td>\n",
              "      <td>0</td>\n",
              "      <td>1</td>\n",
              "      <td>1</td>\n",
              "    </tr>\n",
              "    <tr>\n",
              "      <th>2452</th>\n",
              "      <td>734</td>\n",
              "      <td>29</td>\n",
              "      <td>0</td>\n",
              "      <td>139994.66</td>\n",
              "      <td>1</td>\n",
              "      <td>1</td>\n",
              "      <td>0</td>\n",
              "      <td>17744.72</td>\n",
              "      <td>0</td>\n",
              "      <td>0</td>\n",
              "      <td>0</td>\n",
              "    </tr>\n",
              "    <tr>\n",
              "      <th>7374</th>\n",
              "      <td>682</td>\n",
              "      <td>38</td>\n",
              "      <td>1</td>\n",
              "      <td>116520.28</td>\n",
              "      <td>1</td>\n",
              "      <td>1</td>\n",
              "      <td>1</td>\n",
              "      <td>49833.50</td>\n",
              "      <td>1</td>\n",
              "      <td>0</td>\n",
              "      <td>0</td>\n",
              "    </tr>\n",
              "  </tbody>\n",
              "</table>\n",
              "</div>\n",
              "    <div class=\"colab-df-buttons\">\n",
              "\n",
              "  <div class=\"colab-df-container\">\n",
              "    <button class=\"colab-df-convert\" onclick=\"convertToInteractive('df-37c4b1fe-582d-4dbb-9d99-5bd366bbf422')\"\n",
              "            title=\"Convert this dataframe to an interactive table.\"\n",
              "            style=\"display:none;\">\n",
              "\n",
              "  <svg xmlns=\"http://www.w3.org/2000/svg\" height=\"24px\" viewBox=\"0 -960 960 960\">\n",
              "    <path d=\"M120-120v-720h720v720H120Zm60-500h600v-160H180v160Zm220 220h160v-160H400v160Zm0 220h160v-160H400v160ZM180-400h160v-160H180v160Zm440 0h160v-160H620v160ZM180-180h160v-160H180v160Zm440 0h160v-160H620v160Z\"/>\n",
              "  </svg>\n",
              "    </button>\n",
              "\n",
              "  <style>\n",
              "    .colab-df-container {\n",
              "      display:flex;\n",
              "      gap: 12px;\n",
              "    }\n",
              "\n",
              "    .colab-df-convert {\n",
              "      background-color: #E8F0FE;\n",
              "      border: none;\n",
              "      border-radius: 50%;\n",
              "      cursor: pointer;\n",
              "      display: none;\n",
              "      fill: #1967D2;\n",
              "      height: 32px;\n",
              "      padding: 0 0 0 0;\n",
              "      width: 32px;\n",
              "    }\n",
              "\n",
              "    .colab-df-convert:hover {\n",
              "      background-color: #E2EBFA;\n",
              "      box-shadow: 0px 1px 2px rgba(60, 64, 67, 0.3), 0px 1px 3px 1px rgba(60, 64, 67, 0.15);\n",
              "      fill: #174EA6;\n",
              "    }\n",
              "\n",
              "    .colab-df-buttons div {\n",
              "      margin-bottom: 4px;\n",
              "    }\n",
              "\n",
              "    [theme=dark] .colab-df-convert {\n",
              "      background-color: #3B4455;\n",
              "      fill: #D2E3FC;\n",
              "    }\n",
              "\n",
              "    [theme=dark] .colab-df-convert:hover {\n",
              "      background-color: #434B5C;\n",
              "      box-shadow: 0px 1px 3px 1px rgba(0, 0, 0, 0.15);\n",
              "      filter: drop-shadow(0px 1px 2px rgba(0, 0, 0, 0.3));\n",
              "      fill: #FFFFFF;\n",
              "    }\n",
              "  </style>\n",
              "\n",
              "    <script>\n",
              "      const buttonEl =\n",
              "        document.querySelector('#df-37c4b1fe-582d-4dbb-9d99-5bd366bbf422 button.colab-df-convert');\n",
              "      buttonEl.style.display =\n",
              "        google.colab.kernel.accessAllowed ? 'block' : 'none';\n",
              "\n",
              "      async function convertToInteractive(key) {\n",
              "        const element = document.querySelector('#df-37c4b1fe-582d-4dbb-9d99-5bd366bbf422');\n",
              "        const dataTable =\n",
              "          await google.colab.kernel.invokeFunction('convertToInteractive',\n",
              "                                                    [key], {});\n",
              "        if (!dataTable) return;\n",
              "\n",
              "        const docLinkHtml = 'Like what you see? Visit the ' +\n",
              "          '<a target=\"_blank\" href=https://colab.research.google.com/notebooks/data_table.ipynb>data table notebook</a>'\n",
              "          + ' to learn more about interactive tables.';\n",
              "        element.innerHTML = '';\n",
              "        dataTable['output_type'] = 'display_data';\n",
              "        await google.colab.output.renderOutput(dataTable, element);\n",
              "        const docLink = document.createElement('div');\n",
              "        docLink.innerHTML = docLinkHtml;\n",
              "        element.appendChild(docLink);\n",
              "      }\n",
              "    </script>\n",
              "  </div>\n",
              "\n",
              "\n",
              "<div id=\"df-bb701703-9841-4c44-b660-c054f7260a3d\">\n",
              "  <button class=\"colab-df-quickchart\" onclick=\"quickchart('df-bb701703-9841-4c44-b660-c054f7260a3d')\"\n",
              "            title=\"Suggest charts\"\n",
              "            style=\"display:none;\">\n",
              "\n",
              "<svg xmlns=\"http://www.w3.org/2000/svg\" height=\"24px\"viewBox=\"0 0 24 24\"\n",
              "     width=\"24px\">\n",
              "    <g>\n",
              "        <path d=\"M19 3H5c-1.1 0-2 .9-2 2v14c0 1.1.9 2 2 2h14c1.1 0 2-.9 2-2V5c0-1.1-.9-2-2-2zM9 17H7v-7h2v7zm4 0h-2V7h2v10zm4 0h-2v-4h2v4z\"/>\n",
              "    </g>\n",
              "</svg>\n",
              "  </button>\n",
              "\n",
              "<style>\n",
              "  .colab-df-quickchart {\n",
              "      --bg-color: #E8F0FE;\n",
              "      --fill-color: #1967D2;\n",
              "      --hover-bg-color: #E2EBFA;\n",
              "      --hover-fill-color: #174EA6;\n",
              "      --disabled-fill-color: #AAA;\n",
              "      --disabled-bg-color: #DDD;\n",
              "  }\n",
              "\n",
              "  [theme=dark] .colab-df-quickchart {\n",
              "      --bg-color: #3B4455;\n",
              "      --fill-color: #D2E3FC;\n",
              "      --hover-bg-color: #434B5C;\n",
              "      --hover-fill-color: #FFFFFF;\n",
              "      --disabled-bg-color: #3B4455;\n",
              "      --disabled-fill-color: #666;\n",
              "  }\n",
              "\n",
              "  .colab-df-quickchart {\n",
              "    background-color: var(--bg-color);\n",
              "    border: none;\n",
              "    border-radius: 50%;\n",
              "    cursor: pointer;\n",
              "    display: none;\n",
              "    fill: var(--fill-color);\n",
              "    height: 32px;\n",
              "    padding: 0;\n",
              "    width: 32px;\n",
              "  }\n",
              "\n",
              "  .colab-df-quickchart:hover {\n",
              "    background-color: var(--hover-bg-color);\n",
              "    box-shadow: 0 1px 2px rgba(60, 64, 67, 0.3), 0 1px 3px 1px rgba(60, 64, 67, 0.15);\n",
              "    fill: var(--button-hover-fill-color);\n",
              "  }\n",
              "\n",
              "  .colab-df-quickchart-complete:disabled,\n",
              "  .colab-df-quickchart-complete:disabled:hover {\n",
              "    background-color: var(--disabled-bg-color);\n",
              "    fill: var(--disabled-fill-color);\n",
              "    box-shadow: none;\n",
              "  }\n",
              "\n",
              "  .colab-df-spinner {\n",
              "    border: 2px solid var(--fill-color);\n",
              "    border-color: transparent;\n",
              "    border-bottom-color: var(--fill-color);\n",
              "    animation:\n",
              "      spin 1s steps(1) infinite;\n",
              "  }\n",
              "\n",
              "  @keyframes spin {\n",
              "    0% {\n",
              "      border-color: transparent;\n",
              "      border-bottom-color: var(--fill-color);\n",
              "      border-left-color: var(--fill-color);\n",
              "    }\n",
              "    20% {\n",
              "      border-color: transparent;\n",
              "      border-left-color: var(--fill-color);\n",
              "      border-top-color: var(--fill-color);\n",
              "    }\n",
              "    30% {\n",
              "      border-color: transparent;\n",
              "      border-left-color: var(--fill-color);\n",
              "      border-top-color: var(--fill-color);\n",
              "      border-right-color: var(--fill-color);\n",
              "    }\n",
              "    40% {\n",
              "      border-color: transparent;\n",
              "      border-right-color: var(--fill-color);\n",
              "      border-top-color: var(--fill-color);\n",
              "    }\n",
              "    60% {\n",
              "      border-color: transparent;\n",
              "      border-right-color: var(--fill-color);\n",
              "    }\n",
              "    80% {\n",
              "      border-color: transparent;\n",
              "      border-right-color: var(--fill-color);\n",
              "      border-bottom-color: var(--fill-color);\n",
              "    }\n",
              "    90% {\n",
              "      border-color: transparent;\n",
              "      border-bottom-color: var(--fill-color);\n",
              "    }\n",
              "  }\n",
              "</style>\n",
              "\n",
              "  <script>\n",
              "    async function quickchart(key) {\n",
              "      const quickchartButtonEl =\n",
              "        document.querySelector('#' + key + ' button');\n",
              "      quickchartButtonEl.disabled = true;  // To prevent multiple clicks.\n",
              "      quickchartButtonEl.classList.add('colab-df-spinner');\n",
              "      try {\n",
              "        const charts = await google.colab.kernel.invokeFunction(\n",
              "            'suggestCharts', [key], {});\n",
              "      } catch (error) {\n",
              "        console.error('Error during call to suggestCharts:', error);\n",
              "      }\n",
              "      quickchartButtonEl.classList.remove('colab-df-spinner');\n",
              "      quickchartButtonEl.classList.add('colab-df-quickchart-complete');\n",
              "    }\n",
              "    (() => {\n",
              "      let quickchartButtonEl =\n",
              "        document.querySelector('#df-bb701703-9841-4c44-b660-c054f7260a3d button');\n",
              "      quickchartButtonEl.style.display =\n",
              "        google.colab.kernel.accessAllowed ? 'block' : 'none';\n",
              "    })();\n",
              "  </script>\n",
              "</div>\n",
              "    </div>\n",
              "  </div>\n"
            ]
          },
          "metadata": {},
          "execution_count": 15
        }
      ]
    },
    {
      "cell_type": "code",
      "source": [
        "from sklearn.model_selection import train_test_split\n",
        "x_train, x_test, y_train, y_test = train_test_split(x, y, test_size = 0.2)\n",
        "print(x_train.sample(5))\n",
        "print(x_test.sample(5))\n",
        "print(y_train.sample(5))"
      ],
      "metadata": {
        "colab": {
          "base_uri": "https://localhost:8080/"
        },
        "id": "2POaoH557G2p",
        "outputId": "3e9533bd-0c20-44b3-e269-52946e12f2a1"
      },
      "execution_count": null,
      "outputs": [
        {
          "output_type": "stream",
          "name": "stdout",
          "text": [
            "      CreditScore  Age  Tenure    Balance  NumOfProducts  HasCrCard  \\\n",
            "8856          774   26       5       0.00              2          1   \n",
            "1982          667   28       6  165798.10              1          1   \n",
            "8585          754   45       6       0.00              1          1   \n",
            "8260          640   30       5   32197.64              1          0   \n",
            "7187          552   38       9  134105.01              1          0   \n",
            "\n",
            "      IsActiveMember  EstimatedSalary  Germany  Spain  Male  \n",
            "8856               1         64716.08        0      0     0  \n",
            "1982               0        147090.90        0      0     1  \n",
            "8585               0         73881.68        0      0     0  \n",
            "8260               1        141446.01        1      0     0  \n",
            "7187               0         57850.10        0      0     0  \n",
            "      CreditScore  Age  Tenure  Balance  NumOfProducts  HasCrCard  \\\n",
            "2114          732   33       8      0.0              1          1   \n",
            "2001          661   27       3      0.0              2          1   \n",
            "2963          655   51       3      0.0              2          0   \n",
            "7121          672   34       6      0.0              1          0   \n",
            "3334          671   27       5      0.0              2          0   \n",
            "\n",
            "      IsActiveMember  EstimatedSalary  Germany  Spain  Male  \n",
            "2114               0        119882.70        0      1     1  \n",
            "2001               1         76889.79        0      0     0  \n",
            "2963               1         15801.02        0      0     0  \n",
            "7121               0         22736.06        0      0     1  \n",
            "3334               0        120893.07        0      0     1  \n",
            "4965    0\n",
            "2898    1\n",
            "6025    0\n",
            "3520    1\n",
            "9412    0\n",
            "Name: Exited, dtype: int64\n"
          ]
        }
      ]
    },
    {
      "cell_type": "code",
      "source": [
        "from sklearn.preprocessing import StandardScaler\n",
        "sc = StandardScaler().fit(x_train)\n",
        "x_train_scaled = sc.transform(x_train)\n",
        "x_test_scaled = sc.transform(x_test)"
      ],
      "metadata": {
        "id": "6_4P0_4P8Fw8"
      },
      "execution_count": null,
      "outputs": []
    },
    {
      "cell_type": "code",
      "source": [
        "import tensorflow as tf\n",
        "from tensorflow import keras\n",
        "from keras.models import Sequential\n",
        "from keras.layers import Dense\n",
        "from keras.layers import Dropout\n"
      ],
      "metadata": {
        "id": "xwokxssL_kqt"
      },
      "execution_count": null,
      "outputs": []
    },
    {
      "cell_type": "code",
      "source": [
        "#initialize ANN\n",
        "classifier = Sequential()"
      ],
      "metadata": {
        "id": "rdzr4aoa0KSQ"
      },
      "execution_count": null,
      "outputs": []
    },
    {
      "cell_type": "code",
      "source": [
        "#input layer and first hidden layer\n",
        "classifier.add(Dense(units = 6, activation='relu',kernel_initializer = 'he_uniform', input_dim = 11))"
      ],
      "metadata": {
        "id": "NfAmT3wY0MNT"
      },
      "execution_count": null,
      "outputs": []
    },
    {
      "cell_type": "code",
      "source": [
        "#second hidden layer\n",
        "classifier.add(Dense(units = 6, activation = 'relu', kernel_initializer = 'he_uniform'))"
      ],
      "metadata": {
        "id": "oR0L2_AE28uK"
      },
      "execution_count": null,
      "outputs": []
    },
    {
      "cell_type": "code",
      "source": [
        "#output layer\n",
        "classifier.add(Dense(units = 1, activation = 'sigmoid', kernel_initializer = 'glorot_uniform'))"
      ],
      "metadata": {
        "id": "epAKTSCx3S-4"
      },
      "execution_count": null,
      "outputs": []
    },
    {
      "cell_type": "code",
      "source": [
        "classifier.summary()"
      ],
      "metadata": {
        "colab": {
          "base_uri": "https://localhost:8080/"
        },
        "id": "HSPxYqsw4Prx",
        "outputId": "d9b95152-a999-48f9-8ec5-79d42c981a50"
      },
      "execution_count": null,
      "outputs": [
        {
          "output_type": "stream",
          "name": "stdout",
          "text": [
            "Model: \"sequential\"\n",
            "_________________________________________________________________\n",
            " Layer (type)                Output Shape              Param #   \n",
            "=================================================================\n",
            " dense (Dense)               (None, 6)                 72        \n",
            "                                                                 \n",
            " dense_1 (Dense)             (None, 6)                 42        \n",
            "                                                                 \n",
            " dense_2 (Dense)             (None, 1)                 7         \n",
            "                                                                 \n",
            "=================================================================\n",
            "Total params: 121 (484.00 Byte)\n",
            "Trainable params: 121 (484.00 Byte)\n",
            "Non-trainable params: 0 (0.00 Byte)\n",
            "_________________________________________________________________\n"
          ]
        }
      ]
    },
    {
      "cell_type": "code",
      "source": [
        "classifier.compile(optimizer = 'adam', loss = 'binary_crossentropy', metrics = ['accuracy'])"
      ],
      "metadata": {
        "id": "Z4jnHUpl4XUx"
      },
      "execution_count": null,
      "outputs": []
    },
    {
      "cell_type": "code",
      "source": [
        "model = classifier.fit(x_train, y_train, validation_split= 0.33, batch_size = 10, epochs = 100)"
      ],
      "metadata": {
        "colab": {
          "base_uri": "https://localhost:8080/"
        },
        "id": "8X-MuWWo5jW8",
        "outputId": "63937be4-0294-4d4c-a1ee-93a9cd977e68"
      },
      "execution_count": null,
      "outputs": [
        {
          "output_type": "stream",
          "name": "stdout",
          "text": [
            "Epoch 1/100\n",
            "536/536 [==============================] - 5s 5ms/step - loss: 15318.3105 - accuracy: 0.5634 - val_loss: 1732.1068 - val_accuracy: 0.6763\n",
            "Epoch 2/100\n",
            "536/536 [==============================] - 1s 2ms/step - loss: 629.2479 - accuracy: 0.6837 - val_loss: 47.1018 - val_accuracy: 0.5335\n",
            "Epoch 3/100\n",
            "536/536 [==============================] - 1s 2ms/step - loss: 61.9382 - accuracy: 0.6734 - val_loss: 168.5880 - val_accuracy: 0.2378\n",
            "Epoch 4/100\n",
            "536/536 [==============================] - 2s 3ms/step - loss: 54.6026 - accuracy: 0.6624 - val_loss: 77.9875 - val_accuracy: 0.7864\n",
            "Epoch 5/100\n",
            "536/536 [==============================] - 2s 3ms/step - loss: 55.6611 - accuracy: 0.6820 - val_loss: 68.6190 - val_accuracy: 0.7940\n",
            "Epoch 6/100\n",
            "536/536 [==============================] - 2s 3ms/step - loss: 61.3996 - accuracy: 0.6693 - val_loss: 30.0769 - val_accuracy: 0.6600\n",
            "Epoch 7/100\n",
            "536/536 [==============================] - 2s 4ms/step - loss: 48.9368 - accuracy: 0.6878 - val_loss: 126.3073 - val_accuracy: 0.7940\n",
            "Epoch 8/100\n",
            "536/536 [==============================] - 2s 4ms/step - loss: 58.8134 - accuracy: 0.6822 - val_loss: 90.4016 - val_accuracy: 0.7940\n",
            "Epoch 9/100\n",
            "536/536 [==============================] - 2s 4ms/step - loss: 51.1581 - accuracy: 0.6815 - val_loss: 33.3471 - val_accuracy: 0.7456\n",
            "Epoch 10/100\n",
            "536/536 [==============================] - 2s 4ms/step - loss: 49.9170 - accuracy: 0.6800 - val_loss: 43.7397 - val_accuracy: 0.7497\n",
            "Epoch 11/100\n",
            "536/536 [==============================] - 1s 3ms/step - loss: 51.6237 - accuracy: 0.6882 - val_loss: 2.8649 - val_accuracy: 0.7834\n",
            "Epoch 12/100\n",
            "536/536 [==============================] - 2s 3ms/step - loss: 50.0312 - accuracy: 0.6830 - val_loss: 14.2788 - val_accuracy: 0.5695\n",
            "Epoch 13/100\n",
            "536/536 [==============================] - 2s 3ms/step - loss: 45.6428 - accuracy: 0.6848 - val_loss: 52.9129 - val_accuracy: 0.7505\n",
            "Epoch 14/100\n",
            "536/536 [==============================] - 2s 3ms/step - loss: 50.6900 - accuracy: 0.6865 - val_loss: 34.3581 - val_accuracy: 0.6793\n",
            "Epoch 15/100\n",
            "536/536 [==============================] - 1s 2ms/step - loss: 50.9379 - accuracy: 0.6884 - val_loss: 56.7329 - val_accuracy: 0.7936\n",
            "Epoch 16/100\n",
            "536/536 [==============================] - 1s 2ms/step - loss: 53.9206 - accuracy: 0.6824 - val_loss: 85.3999 - val_accuracy: 0.7936\n",
            "Epoch 17/100\n",
            "536/536 [==============================] - 2s 4ms/step - loss: 52.8954 - accuracy: 0.6943 - val_loss: 15.0167 - val_accuracy: 0.7902\n",
            "Epoch 18/100\n",
            "536/536 [==============================] - 2s 4ms/step - loss: 48.4019 - accuracy: 0.6822 - val_loss: 47.5791 - val_accuracy: 0.7066\n",
            "Epoch 19/100\n",
            "536/536 [==============================] - 2s 4ms/step - loss: 45.2536 - accuracy: 0.6818 - val_loss: 20.9421 - val_accuracy: 0.7921\n",
            "Epoch 20/100\n",
            "536/536 [==============================] - 2s 3ms/step - loss: 41.7594 - accuracy: 0.6874 - val_loss: 47.0131 - val_accuracy: 0.7933\n",
            "Epoch 21/100\n",
            "536/536 [==============================] - 2s 3ms/step - loss: 49.6304 - accuracy: 0.6805 - val_loss: 53.2264 - val_accuracy: 0.7876\n",
            "Epoch 22/100\n",
            "536/536 [==============================] - 2s 3ms/step - loss: 50.2038 - accuracy: 0.6960 - val_loss: 38.9067 - val_accuracy: 0.6948\n",
            "Epoch 23/100\n",
            "536/536 [==============================] - 2s 3ms/step - loss: 47.4228 - accuracy: 0.6852 - val_loss: 57.7889 - val_accuracy: 0.4570\n",
            "Epoch 24/100\n",
            "536/536 [==============================] - 2s 4ms/step - loss: 40.1927 - accuracy: 0.6981 - val_loss: 18.2407 - val_accuracy: 0.4718\n",
            "Epoch 25/100\n",
            "536/536 [==============================] - 2s 4ms/step - loss: 43.5874 - accuracy: 0.6878 - val_loss: 33.1541 - val_accuracy: 0.4873\n",
            "Epoch 26/100\n",
            "536/536 [==============================] - 2s 4ms/step - loss: 37.9110 - accuracy: 0.6889 - val_loss: 22.6416 - val_accuracy: 0.3154\n",
            "Epoch 27/100\n",
            "536/536 [==============================] - 2s 4ms/step - loss: 45.4069 - accuracy: 0.6813 - val_loss: 58.7140 - val_accuracy: 0.7933\n",
            "Epoch 28/100\n",
            "536/536 [==============================] - 2s 4ms/step - loss: 52.1191 - accuracy: 0.6889 - val_loss: 11.0854 - val_accuracy: 0.6884\n",
            "Epoch 29/100\n",
            "536/536 [==============================] - 2s 3ms/step - loss: 39.6796 - accuracy: 0.6949 - val_loss: 12.7752 - val_accuracy: 0.7902\n",
            "Epoch 30/100\n",
            "536/536 [==============================] - 1s 3ms/step - loss: 43.4587 - accuracy: 0.6964 - val_loss: 79.3863 - val_accuracy: 0.2878\n",
            "Epoch 31/100\n",
            "536/536 [==============================] - 1s 3ms/step - loss: 50.3666 - accuracy: 0.6869 - val_loss: 19.0225 - val_accuracy: 0.7914\n",
            "Epoch 32/100\n",
            "536/536 [==============================] - 2s 3ms/step - loss: 34.2155 - accuracy: 0.6919 - val_loss: 17.4642 - val_accuracy: 0.7902\n",
            "Epoch 33/100\n",
            "536/536 [==============================] - 1s 2ms/step - loss: 44.4569 - accuracy: 0.6891 - val_loss: 54.5390 - val_accuracy: 0.7921\n",
            "Epoch 34/100\n",
            "536/536 [==============================] - 1s 3ms/step - loss: 31.2586 - accuracy: 0.6901 - val_loss: 9.5138 - val_accuracy: 0.7236\n",
            "Epoch 35/100\n",
            "536/536 [==============================] - 1s 2ms/step - loss: 42.9448 - accuracy: 0.6930 - val_loss: 11.3310 - val_accuracy: 0.4941\n",
            "Epoch 36/100\n",
            "536/536 [==============================] - 1s 3ms/step - loss: 41.1224 - accuracy: 0.6848 - val_loss: 40.1448 - val_accuracy: 0.5464\n",
            "Epoch 37/100\n",
            "536/536 [==============================] - 2s 3ms/step - loss: 41.1075 - accuracy: 0.6957 - val_loss: 50.6265 - val_accuracy: 0.5941\n",
            "Epoch 38/100\n",
            "536/536 [==============================] - 2s 4ms/step - loss: 53.3993 - accuracy: 0.6893 - val_loss: 25.0428 - val_accuracy: 0.7012\n",
            "Epoch 39/100\n",
            "536/536 [==============================] - 2s 4ms/step - loss: 39.3352 - accuracy: 0.6940 - val_loss: 21.6787 - val_accuracy: 0.4430\n",
            "Epoch 40/100\n",
            "536/536 [==============================] - 3s 5ms/step - loss: 32.5991 - accuracy: 0.6945 - val_loss: 74.6485 - val_accuracy: 0.7925\n",
            "Epoch 41/100\n",
            "536/536 [==============================] - 4s 7ms/step - loss: 45.3440 - accuracy: 0.6882 - val_loss: 32.4152 - val_accuracy: 0.7914\n",
            "Epoch 42/100\n",
            "536/536 [==============================] - 3s 5ms/step - loss: 34.1507 - accuracy: 0.7007 - val_loss: 11.2597 - val_accuracy: 0.7793\n",
            "Epoch 43/100\n",
            "536/536 [==============================] - 3s 5ms/step - loss: 45.3970 - accuracy: 0.6970 - val_loss: 7.2576 - val_accuracy: 0.7596\n",
            "Epoch 44/100\n",
            "536/536 [==============================] - 4s 7ms/step - loss: 39.2948 - accuracy: 0.6958 - val_loss: 44.8113 - val_accuracy: 0.7921\n",
            "Epoch 45/100\n",
            "536/536 [==============================] - 4s 7ms/step - loss: 40.7150 - accuracy: 0.6977 - val_loss: 89.1055 - val_accuracy: 0.7925\n",
            "Epoch 46/100\n",
            "536/536 [==============================] - 2s 4ms/step - loss: 40.0265 - accuracy: 0.6986 - val_loss: 48.5713 - val_accuracy: 0.5328\n",
            "Epoch 47/100\n",
            "536/536 [==============================] - 2s 4ms/step - loss: 31.6377 - accuracy: 0.6901 - val_loss: 5.6157 - val_accuracy: 0.7452\n",
            "Epoch 48/100\n",
            "536/536 [==============================] - 1s 3ms/step - loss: 41.2103 - accuracy: 0.6895 - val_loss: 13.2087 - val_accuracy: 0.7876\n",
            "Epoch 49/100\n",
            "536/536 [==============================] - 2s 3ms/step - loss: 36.5606 - accuracy: 0.6966 - val_loss: 16.8766 - val_accuracy: 0.5789\n",
            "Epoch 50/100\n",
            "536/536 [==============================] - 1s 3ms/step - loss: 37.8101 - accuracy: 0.6915 - val_loss: 40.0916 - val_accuracy: 0.7921\n",
            "Epoch 51/100\n",
            "536/536 [==============================] - 2s 3ms/step - loss: 35.3370 - accuracy: 0.6953 - val_loss: 45.9773 - val_accuracy: 0.7020\n",
            "Epoch 52/100\n",
            "536/536 [==============================] - 3s 6ms/step - loss: 36.9756 - accuracy: 0.7031 - val_loss: 17.8921 - val_accuracy: 0.5752\n",
            "Epoch 53/100\n",
            "536/536 [==============================] - 2s 4ms/step - loss: 39.8614 - accuracy: 0.7098 - val_loss: 21.8144 - val_accuracy: 0.7899\n",
            "Epoch 54/100\n",
            "536/536 [==============================] - 2s 4ms/step - loss: 30.8144 - accuracy: 0.6856 - val_loss: 8.6569 - val_accuracy: 0.7880\n",
            "Epoch 55/100\n",
            "536/536 [==============================] - 2s 3ms/step - loss: 33.7398 - accuracy: 0.7035 - val_loss: 24.8272 - val_accuracy: 0.7910\n",
            "Epoch 56/100\n",
            "536/536 [==============================] - 2s 4ms/step - loss: 39.4082 - accuracy: 0.6947 - val_loss: 14.7281 - val_accuracy: 0.7887\n",
            "Epoch 57/100\n",
            "536/536 [==============================] - 3s 6ms/step - loss: 46.1601 - accuracy: 0.6880 - val_loss: 80.0071 - val_accuracy: 0.7929\n",
            "Epoch 58/100\n",
            "536/536 [==============================] - 4s 7ms/step - loss: 30.5236 - accuracy: 0.7052 - val_loss: 8.9960 - val_accuracy: 0.7550\n",
            "Epoch 59/100\n",
            "536/536 [==============================] - 5s 9ms/step - loss: 35.1898 - accuracy: 0.6970 - val_loss: 33.2904 - val_accuracy: 0.6990\n",
            "Epoch 60/100\n",
            "536/536 [==============================] - 4s 7ms/step - loss: 35.2678 - accuracy: 0.6958 - val_loss: 45.5622 - val_accuracy: 0.7914\n",
            "Epoch 61/100\n",
            "536/536 [==============================] - 3s 6ms/step - loss: 38.8923 - accuracy: 0.6897 - val_loss: 12.0459 - val_accuracy: 0.7243\n",
            "Epoch 62/100\n",
            "536/536 [==============================] - 5s 9ms/step - loss: 34.0750 - accuracy: 0.6869 - val_loss: 25.5818 - val_accuracy: 0.7910\n",
            "Epoch 63/100\n",
            "536/536 [==============================] - 7s 13ms/step - loss: 30.8387 - accuracy: 0.7005 - val_loss: 21.3492 - val_accuracy: 0.7910\n",
            "Epoch 64/100\n",
            "536/536 [==============================] - 3s 6ms/step - loss: 42.9696 - accuracy: 0.6897 - val_loss: 60.1138 - val_accuracy: 0.7925\n",
            "Epoch 65/100\n",
            "536/536 [==============================] - 2s 3ms/step - loss: 37.1244 - accuracy: 0.6878 - val_loss: 57.4628 - val_accuracy: 0.7925\n",
            "Epoch 66/100\n",
            "536/536 [==============================] - 2s 3ms/step - loss: 43.6697 - accuracy: 0.6846 - val_loss: 15.5599 - val_accuracy: 0.6994\n",
            "Epoch 67/100\n",
            "536/536 [==============================] - 2s 3ms/step - loss: 41.2686 - accuracy: 0.6873 - val_loss: 23.4600 - val_accuracy: 0.7940\n",
            "Epoch 68/100\n",
            "536/536 [==============================] - 1s 3ms/step - loss: 31.6710 - accuracy: 0.6968 - val_loss: 8.6679 - val_accuracy: 0.6884\n",
            "Epoch 69/100\n",
            "536/536 [==============================] - 2s 3ms/step - loss: 35.5319 - accuracy: 0.6833 - val_loss: 28.6655 - val_accuracy: 0.7217\n",
            "Epoch 70/100\n",
            "536/536 [==============================] - 2s 3ms/step - loss: 31.9144 - accuracy: 0.6958 - val_loss: 28.3401 - val_accuracy: 0.7213\n",
            "Epoch 71/100\n",
            "536/536 [==============================] - 2s 4ms/step - loss: 30.2050 - accuracy: 0.6831 - val_loss: 59.1113 - val_accuracy: 0.7940\n",
            "Epoch 72/100\n",
            "536/536 [==============================] - 2s 4ms/step - loss: 30.1875 - accuracy: 0.6891 - val_loss: 39.9214 - val_accuracy: 0.4544\n",
            "Epoch 73/100\n",
            "536/536 [==============================] - 2s 4ms/step - loss: 27.1006 - accuracy: 0.6884 - val_loss: 9.5541 - val_accuracy: 0.5028\n",
            "Epoch 74/100\n",
            "536/536 [==============================] - 2s 3ms/step - loss: 32.2048 - accuracy: 0.6874 - val_loss: 23.0377 - val_accuracy: 0.2560\n",
            "Epoch 75/100\n",
            "536/536 [==============================] - 1s 3ms/step - loss: 23.8136 - accuracy: 0.6796 - val_loss: 34.8498 - val_accuracy: 0.7940\n",
            "Epoch 76/100\n",
            "536/536 [==============================] - 2s 3ms/step - loss: 31.8991 - accuracy: 0.6977 - val_loss: 4.8117 - val_accuracy: 0.5203\n",
            "Epoch 77/100\n",
            "536/536 [==============================] - 2s 3ms/step - loss: 22.7773 - accuracy: 0.7016 - val_loss: 32.2589 - val_accuracy: 0.3052\n",
            "Epoch 78/100\n",
            "536/536 [==============================] - 1s 2ms/step - loss: 19.6103 - accuracy: 0.6990 - val_loss: 90.2787 - val_accuracy: 0.2908\n",
            "Epoch 79/100\n",
            "536/536 [==============================] - 2s 3ms/step - loss: 20.4385 - accuracy: 0.7078 - val_loss: 8.1731 - val_accuracy: 0.7830\n",
            "Epoch 80/100\n",
            "536/536 [==============================] - 2s 4ms/step - loss: 23.8088 - accuracy: 0.7115 - val_loss: 22.9751 - val_accuracy: 0.7531\n",
            "Epoch 81/100\n",
            "536/536 [==============================] - 2s 4ms/step - loss: 18.4025 - accuracy: 0.7061 - val_loss: 7.3634 - val_accuracy: 0.5986\n",
            "Epoch 82/100\n",
            "536/536 [==============================] - 2s 4ms/step - loss: 16.1035 - accuracy: 0.7124 - val_loss: 2.1941 - val_accuracy: 0.7527\n",
            "Epoch 83/100\n",
            "536/536 [==============================] - 2s 4ms/step - loss: 18.1398 - accuracy: 0.7156 - val_loss: 38.9925 - val_accuracy: 0.7940\n",
            "Epoch 84/100\n",
            "536/536 [==============================] - 2s 4ms/step - loss: 11.0953 - accuracy: 0.7194 - val_loss: 13.6093 - val_accuracy: 0.7940\n",
            "Epoch 85/100\n",
            "536/536 [==============================] - 2s 4ms/step - loss: 12.7030 - accuracy: 0.7276 - val_loss: 12.6991 - val_accuracy: 0.7940\n",
            "Epoch 86/100\n",
            "536/536 [==============================] - 1s 3ms/step - loss: 12.1610 - accuracy: 0.7343 - val_loss: 28.4742 - val_accuracy: 0.7940\n",
            "Epoch 87/100\n",
            "536/536 [==============================] - 1s 2ms/step - loss: 8.5775 - accuracy: 0.7369 - val_loss: 24.7422 - val_accuracy: 0.7940\n",
            "Epoch 88/100\n",
            "536/536 [==============================] - 2s 3ms/step - loss: 9.8115 - accuracy: 0.7416 - val_loss: 8.1301 - val_accuracy: 0.7940\n",
            "Epoch 89/100\n",
            "536/536 [==============================] - 2s 3ms/step - loss: 9.9117 - accuracy: 0.7485 - val_loss: 6.9313 - val_accuracy: 0.7766\n",
            "Epoch 90/100\n",
            "536/536 [==============================] - 1s 2ms/step - loss: 9.8559 - accuracy: 0.7457 - val_loss: 22.1244 - val_accuracy: 0.7940\n",
            "Epoch 91/100\n",
            "536/536 [==============================] - 2s 3ms/step - loss: 7.5081 - accuracy: 0.7585 - val_loss: 14.4077 - val_accuracy: 0.7940\n",
            "Epoch 92/100\n",
            "536/536 [==============================] - 2s 3ms/step - loss: 8.8957 - accuracy: 0.7572 - val_loss: 4.6884 - val_accuracy: 0.7940\n",
            "Epoch 93/100\n",
            "536/536 [==============================] - 2s 4ms/step - loss: 7.2893 - accuracy: 0.7600 - val_loss: 1.6293 - val_accuracy: 0.7925\n",
            "Epoch 94/100\n",
            "536/536 [==============================] - 2s 4ms/step - loss: 6.1599 - accuracy: 0.7613 - val_loss: 15.6677 - val_accuracy: 0.5381\n",
            "Epoch 95/100\n",
            "536/536 [==============================] - 2s 4ms/step - loss: 5.8422 - accuracy: 0.7613 - val_loss: 16.6556 - val_accuracy: 0.7940\n",
            "Epoch 96/100\n",
            "536/536 [==============================] - 2s 3ms/step - loss: 5.9028 - accuracy: 0.7604 - val_loss: 1.0298 - val_accuracy: 0.7925\n",
            "Epoch 97/100\n",
            "536/536 [==============================] - 1s 3ms/step - loss: 6.6754 - accuracy: 0.7671 - val_loss: 13.7871 - val_accuracy: 0.7940\n",
            "Epoch 98/100\n",
            "536/536 [==============================] - 1s 3ms/step - loss: 5.3608 - accuracy: 0.7636 - val_loss: 1.7925 - val_accuracy: 0.7948\n",
            "Epoch 99/100\n",
            "536/536 [==============================] - 2s 3ms/step - loss: 4.8140 - accuracy: 0.7660 - val_loss: 0.7915 - val_accuracy: 0.7933\n",
            "Epoch 100/100\n",
            "536/536 [==============================] - 1s 3ms/step - loss: 5.7592 - accuracy: 0.7673 - val_loss: 9.6601 - val_accuracy: 0.5464\n"
          ]
        }
      ]
    },
    {
      "cell_type": "code",
      "source": [
        "y_pred = classifier.predict(x_test)\n",
        "y_pred = (y_pred > 0.5)"
      ],
      "metadata": {
        "colab": {
          "base_uri": "https://localhost:8080/"
        },
        "id": "mCg0KL04EcgR",
        "outputId": "93943a88-110e-44d0-d8cb-2648ab8d9977"
      },
      "execution_count": null,
      "outputs": [
        {
          "output_type": "stream",
          "name": "stdout",
          "text": [
            "63/63 [==============================] - 0s 2ms/step\n"
          ]
        }
      ]
    },
    {
      "cell_type": "code",
      "source": [
        "from sklearn.metrics import confusion_matrix\n",
        "cm = confusion_matrix(y_test, y_pred)\n",
        "print(cm)\n",
        "\n",
        "# Calculate the Accuracy\n",
        "from sklearn.metrics import accuracy_score\n",
        "score=accuracy_score(y_pred,y_test)\n",
        "print(score)"
      ],
      "metadata": {
        "id": "KaF09sPuEt0p",
        "colab": {
          "base_uri": "https://localhost:8080/"
        },
        "outputId": "3aaf1f2e-6514-4926-d3a1-982ee7302c82"
      },
      "execution_count": null,
      "outputs": [
        {
          "output_type": "stream",
          "name": "stdout",
          "text": [
            "0.5535\n"
          ]
        }
      ]
    },
    {
      "cell_type": "code",
      "source": [
        "import matplotlib.pyplot as plt\n",
        "print(model.history.keys())\n",
        "# summarize history for accuracy\n",
        "plt.plot(model.history['accuracy'])\n",
        "plt.plot(model.history['val_accuracy'])\n",
        "plt.title('model accuracy')\n",
        "plt.ylabel('accuracy')\n",
        "plt.xlabel('epoch')\n",
        "plt.legend(['train', 'test'], loc='upper left')\n",
        "plt.show()"
      ],
      "metadata": {
        "colab": {
          "base_uri": "https://localhost:8080/",
          "height": 490
        },
        "id": "SqIuTWuj3U8C",
        "outputId": "155211ec-1a14-4ef3-d534-a0807bbf544a"
      },
      "execution_count": null,
      "outputs": [
        {
          "output_type": "stream",
          "name": "stdout",
          "text": [
            "dict_keys(['loss', 'accuracy', 'val_loss', 'val_accuracy'])\n"
          ]
        },
        {
          "output_type": "display_data",
          "data": {
            "text/plain": [
              "<Figure size 640x480 with 1 Axes>"
            ],
            "image/png": "[encoded data removed]"
          },
          "metadata": {}
        }
      ]
    },
    {
      "cell_type": "code",
      "source": [
        "plt.plot(model.history['loss'])\n",
        "plt.plot(model.history['val_loss'])\n",
        "plt.title('model loss')\n",
        "plt.ylabel('loss')\n",
        "plt.xlabel('epoch')\n",
        "plt.legend(['train', 'test'], loc='upper left')\n",
        "plt.show()"
      ],
      "metadata": {
        "colab": {
          "base_uri": "https://localhost:8080/",
          "height": 472
        },
        "id": "J1ECBU3z4_mp",
        "outputId": "ec12ad75-bfa9-4d4b-a129-f26e266c3dae"
      },
      "execution_count": null,
      "outputs": [
        {
          "output_type": "display_data",
          "data": {
            "text/plain": [
              "<Figure size 640x480 with 1 Axes>"
            ],
            "image/png": "[encoded data removed]"
          },
          "metadata": {}
        }
      ]
    }
  ]
}